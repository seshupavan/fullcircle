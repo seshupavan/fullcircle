{
 "cells": [
  {
   "cell_type": "markdown",
   "id": "16f4f09f-f2ba-443f-8dde-60b6985164a8",
   "metadata": {},
   "source": [
    "# Text Analysis using Genarative AI\n",
    "Generative AI can better analyze text data such as daily check-in's, journal entries, social media posts, emails to better understand and measure the mental being of person who wrote it. In this notebook, we will explore one such usecase on how generative AI can be used to analyse text responses of daily check-in data from teenagers for open ended questions such as \"how's did your day go?\", \"how are you feeling today?\" etc which is intended to measure mental status of teenagers between sessions with a mental health professional."
   ]
  },
  {
   "cell_type": "code",
   "execution_count": 1,
   "id": "251ca665-3575-4277-8824-effb6769ac5c",
   "metadata": {},
   "outputs": [],
   "source": [
    "#importing the necessary packages\n",
    "from IPython.display import display\n",
    "from IPython.display import Markdown\n",
    "import textwrap\n",
    "def to_markdown(text):\n",
    "  text = text.replace('•', '  *')\n",
    "  return Markdown(textwrap.indent(text, '> ', predicate=lambda _: True))\n",
    "\n",
    "# Getting the Google Gemini API key\n",
    "import os\n",
    "from dotenv import load_dotenv\n",
    "load_dotenv()\n",
    "GOOGLE_API_KEY = os.getenv('GOOGLE_API_KEY')\n",
    "\n",
    "#configuring the API key\n",
    "import google.generativeai as genai\n",
    "genai.configure(api_key=GOOGLE_API_KEY)"
   ]
  },
  {
   "cell_type": "code",
   "execution_count": 30,
   "id": "0c7c9e8e-ad77-48d0-8b85-be2218db19d3",
   "metadata": {},
   "outputs": [],
   "source": [
    "# system instruction prompt we finalised that can work for multiple use cases\n",
    "model = genai.GenerativeModel(\n",
    "    model_name= 'gemini-1.5-flash',\n",
    "    system_instruction=\n",
    "\"\"\"\n",
    "You are a specialized mental health data analysis assistant designed to process teenagers' text data to provide structured insights for mental health professionals. Your primary function is to assist in mental health measurement, identify trends, and generate the required outputs to support professionals in understanding and monitoring mental health over time.\n",
    "\n",
    "Rules to Observe:\n",
    "1. Avoid clinical advice or diagnoses: Do not provide clinical advice, diagnoses, or diagnostic labels. Avoid giving unsolicited advice or treatment recommendations.  \n",
    "2. Rely on provided input only: Base your analysis strictly on the user’s current and past input. Do not make unsupported assumptions or fabricate details beyond the provided information.  \n",
    "3. Contextualize responses: Consider the user’s geographic, social, economic, financial, religious, and cultural context to ensure tailored and relevant insights. Identify affiliations with subcultures, if any (e.g., gang affiliation, urban vs. rural identity, socio-economic idioms, or expressions linked to specific milieus).  \n",
    "4. Incorporate temporal analysis: Analyze trends across the current and previous conversations to identify meaningful patterns in the user’s language, emotional states, and behaviors. Highlight signals of improvement, stability, or potential deterioration that may warrant attention.  \n",
    "\n",
    "Required outputs:\n",
    "1. Emotion and Sentiment Analysis:Identify and classify primary and secondary emotions expressed in the user's text and provide an overview of emotional trends.  \n",
    "2. Cognitive Distortions:Detect thought patterns such as overgeneralization, personalization, catastrophizing, all-or-nothing thinking, or \"should\" statements.  \n",
    "3. Recurring Stressors: Highlight recurring themes or topics in the user’s responses that act as stressors (e.g., school, relationships, or family dynamics).  \n",
    "4. Behavioral Indicators:Analyze behavioral patterns reflected in the user's text to understand their mental and emotional state. Consider references to social engagement like signs of connection (e.g., spending time with friends) or withdrawal, coping mechanisms including positive strategies (e.g., exercising, journaling) or potentially concerning behaviors (e.g., isolation, substance use) and new or evolving behaviors like sudden shifts in behavior that could indicate change (positive or negative).  \n",
    "\n",
    "Finally you must only derive from only the text given to you and without thinking on your own or halucinating this include giving unsolicited advices,therapy methods since your job is to examine and report to mental health practitioner so please dont do more than you've asked for under any circumstances\n",
    "\"\"\"\n",
    ")"
   ]
  },
  {
   "cell_type": "code",
   "execution_count": 31,
   "id": "5431aadb-b877-4a00-9b51-761999f7ba13",
   "metadata": {},
   "outputs": [],
   "source": [
    "# Some of the example prompts that teenagers might write for daily check-in's (these can be much larger in real situations)\n",
    "teenagers_responses = [\n",
    "    \"I feel invisible, like I’m not even here. At school, people walk past me like I don’t exist. My friends don’t really talk to me anymore, and even when I try to join in, they just nod or move on. I know everyone’s busy with their own lives, but it feels like no one cares about mine. Sometimes, I wonder if I did something wrong or if there’s just something about me that pushes people away. It’s a lonely feeling, and I don’t know how to fix it.\",\n",
    "    \n",
    "    \"Today was actually pretty good. I finally understood the math lesson that’s been confusing me for weeks. My teacher took the time to explain it step by step, and it just clicked. It felt amazing to actually answer a question in class and get it right. I think I might even do well on the next test. It’s little victories like this that make the day feel a bit brighter.\",\n",
    "    \n",
    "    \"It’s been a hard day. My friends went to the mall together, and they didn’t even tell me. I only found out because someone posted a picture on social media. I feel like I’m always the one left out of things, and it’s starting to make me wonder if they even want me around. I don’t want to sound clingy or desperate, but it really hurts to feel excluded, especially when they’re the people I care about the most.\",\n",
    "    \n",
    "    \"Honestly, I feel pretty great today. I had a fun lunch with my friends, and we were just joking and laughing the whole time. It reminded me of how nice it is to be around people who get you. Plus, I started reading a new book that I’m super into. It’s days like these that make everything feel okay, even when things get stressful sometimes.\",\n",
    "    \n",
    "    \"Someone made fun of my outfit at school today, and I’ve been thinking about it ever since. It wasn’t even a big deal—they just laughed and said I looked like a little kid—but it really got to me. I spent so much time picking out my clothes because I wanted to feel confident, and now all I feel is self-conscious. It’s hard not to let these little comments stick in my head and make me doubt myself.\"\n",
    "]"
   ]
  },
  {
   "cell_type": "code",
   "execution_count": 32,
   "id": "b4f4c431-b756-4f4b-83ed-d7224087b20e",
   "metadata": {},
   "outputs": [
    {
     "name": "stdout",
     "output_type": "stream",
     "text": [
      "Response 1:\n"
     ]
    },
    {
     "data": {
      "text/markdown": [
       "> **Emotion and Sentiment Analysis:** The predominant emotion expressed is sadness, accompanied by feelings of loneliness, isolation, and low self-esteem.  There's a sense of hopelessness and uncertainty about the situation.  Secondary emotions include anxiety and possibly self-blame.\n",
       "> \n",
       "> **Cognitive Distortions:** The user exhibits personalization (\"if there’s just something about me that pushes people away\") and potentially overgeneralization (\"people walk past me like I don’t exist,\" \"My friends don’t really talk to me anymore\").  There's also an element of catastrophizing implied in the feeling of invisibility and the uncertainty about fixing the situation.\n",
       "> \n",
       "> **Recurring Stressors:** The primary stressor is the perceived social isolation and lack of connection with friends at school.  This is impacting the user's self-worth and contributing to feelings of loneliness.\n",
       "> \n",
       "> **Behavioral Indicators:** The user reports social withdrawal, indicated by the feeling of being ignored and the friends' lack of engagement.  There's a description of attempts to engage socially, suggesting a desire for connection, but these attempts are met with discouragement.  No other behavioral indicators (positive coping mechanisms or concerning behaviors) are explicitly mentioned in the provided text.\n"
      ],
      "text/plain": [
       "<IPython.core.display.Markdown object>"
      ]
     },
     "metadata": {},
     "output_type": "display_data"
    },
    {
     "name": "stdout",
     "output_type": "stream",
     "text": [
      "------------------------------------------------------------------------\n",
      "Response 2:\n"
     ]
    },
    {
     "data": {
      "text/markdown": [
       "> **Emotion and Sentiment Analysis:** The predominant emotion expressed is positive, characterized by feelings of relief, accomplishment, and confidence.  Secondary emotions include happiness and optimism regarding future academic performance.\n",
       "> \n",
       "> **Cognitive Distortions:** No significant cognitive distortions are evident in this text. The user demonstrates realistic and adaptive thinking, focusing on a specific achievement and its positive impact.\n",
       "> \n",
       "> **Recurring Stressors:**  The text indicates that mathematics has been a source of stress in the past. However, this specific instance reflects a successful resolution of that stressor. No other recurring stressors are mentioned.\n",
       "> \n",
       "> **Behavioral Indicators:** The user reports a positive behavioral response to academic challenges.  They actively sought help from their teacher, demonstrating proactive problem-solving skills.  The successful resolution of the math problem is a positive behavioral indicator, suggesting improved coping mechanisms and a sense of self-efficacy.  The user's description of feeling \"brighter\" suggests an improved mood and emotional state.\n"
      ],
      "text/plain": [
       "<IPython.core.display.Markdown object>"
      ]
     },
     "metadata": {},
     "output_type": "display_data"
    },
    {
     "name": "stdout",
     "output_type": "stream",
     "text": [
      "------------------------------------------------------------------------\n"
     ]
    }
   ],
   "source": [
    "# Analyzing the first two prompts by using system instruction\n",
    "for i in range(len(teenagers_responses[:2])):\n",
    "    response = model.generate_content(\n",
    "        teenagers_responses[i],\n",
    "        generation_config= genai.GenerationConfig(\n",
    "        temperature = 0,\n",
    "        max_output_tokens=1000\n",
    "        )\n",
    "    )\n",
    "    print(f\"Response {i+1}:\")\n",
    "    display(to_markdown(response.text))\n",
    "    print(\"------------------------------------------------------------------------\")"
   ]
  },
  {
   "cell_type": "markdown",
   "id": "3c142b87-48d7-4123-a99c-cf2ca4d03b34",
   "metadata": {},
   "source": [
    "Daily check-in's using voice / video analysis gives more details such as tone, pitch, energy levels which can be used to measure emotions but the current voice tech is not so matured to understand the voices of people with speech disorders such as stuttering, aphasia etc and there are people who cant talk so to make AI more accessible for everyone we need to include textual features by giving the same priority.\n",
    "\n",
    "### Future steps:\n",
    "What we are seeing is prompt analysis for one day. These can be stored into a vector database and by performing Retrieval-Augmented Generation (RAG) operations we can get trends over weeks, months and years."
   ]
  }
 ],
 "metadata": {
  "kernelspec": {
   "display_name": "Python 3 (ipykernel)",
   "language": "python",
   "name": "python3"
  },
  "language_info": {
   "codemirror_mode": {
    "name": "ipython",
    "version": 3
   },
   "file_extension": ".py",
   "mimetype": "text/x-python",
   "name": "python",
   "nbconvert_exporter": "python",
   "pygments_lexer": "ipython3",
   "version": "3.12.4"
  }
 },
 "nbformat": 4,
 "nbformat_minor": 5
}
